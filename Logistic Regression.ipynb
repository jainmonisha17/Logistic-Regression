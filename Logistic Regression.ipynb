{
 "cells": [
  {
   "cell_type": "code",
   "execution_count": null,
   "id": "712e4530",
   "metadata": {},
   "outputs": [],
   "source": [
    "# Logistic Regression -> we want to learn about Logistic Regression as a method for classification\n",
    "# EX: Spam vs 'Ham' emails\n",
    "# Loan Default(yes/no)\n",
    "# Disease Diagnosis \n",
    "\n",
    "# All these are Binary Classification\n",
    "\n",
    "# The Sigmoid(aka Logistic) function takes in any value and outputs it to be between 0 and 1\n",
    "\n",
    "# "
   ]
  }
 ],
 "metadata": {
  "kernelspec": {
   "display_name": "Python 3 (ipykernel)",
   "language": "python",
   "name": "python3"
  },
  "language_info": {
   "codemirror_mode": {
    "name": "ipython",
    "version": 3
   },
   "file_extension": ".py",
   "mimetype": "text/x-python",
   "name": "python",
   "nbconvert_exporter": "python",
   "pygments_lexer": "ipython3",
   "version": "3.9.13"
  }
 },
 "nbformat": 4,
 "nbformat_minor": 5
}
